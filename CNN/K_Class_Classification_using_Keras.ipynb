{
  "cells": [
    {
      "cell_type": "markdown",
      "source": [
        "**K Class Classification Using Keras**"
      ],
      "metadata": {
        "id": "v07AqKd_Cki-"
      },
      "id": "v07AqKd_Cki-"
    },
    {
      "cell_type": "code",
      "execution_count": 6,
      "id": "48e9c69f",
      "metadata": {
        "id": "48e9c69f"
      },
      "outputs": [],
      "source": [
        "import pandas as pd\n",
        "import numpy as np\n",
        "from matplotlib import pyplot\n",
        "import matplotlib.pyplot as plt\n",
        "from sklearn.datasets import make_blobs\n",
        "from sklearn.model_selection import train_test_split\n",
        "import datetime\n",
        "from tensorflow import keras"
      ]
    },
    {
      "cell_type": "code",
      "source": [],
      "metadata": {
        "id": "10R8GUXRE_KZ"
      },
      "id": "10R8GUXRE_KZ",
      "execution_count": null,
      "outputs": []
    },
    {
      "cell_type": "code",
      "source": [],
      "metadata": {
        "id": "iozh3_zGDZ00"
      },
      "id": "iozh3_zGDZ00",
      "execution_count": null,
      "outputs": []
    }
  ],
  "metadata": {
    "kernelspec": {
      "display_name": "Python 3 (ipykernel)",
      "language": "python",
      "name": "python3"
    },
    "language_info": {
      "codemirror_mode": {
        "name": "ipython",
        "version": 3
      },
      "file_extension": ".py",
      "mimetype": "text/x-python",
      "name": "python",
      "nbconvert_exporter": "python",
      "pygments_lexer": "ipython3",
      "version": "3.11.5"
    },
    "colab": {
      "provenance": []
    }
  },
  "nbformat": 4,
  "nbformat_minor": 5
}